{
  "nbformat": 4,
  "nbformat_minor": 0,
  "metadata": {
    "colab": {
      "provenance": [],
      "authorship_tag": "ABX9TyONFypc+uEQow2raHJi425C",
      "include_colab_link": true
    },
    "kernelspec": {
      "name": "python3",
      "display_name": "Python 3"
    },
    "language_info": {
      "name": "python"
    }
  },
  "cells": [
    {
      "cell_type": "markdown",
      "metadata": {
        "id": "view-in-github",
        "colab_type": "text"
      },
      "source": [
        "<a href=\"https://colab.research.google.com/github/shankhadwip/AeroInsta/blob/main/IfELse.ipynb\" target=\"_parent\"><img src=\"https://colab.research.google.com/assets/colab-badge.svg\" alt=\"Open In Colab\"/></a>"
      ]
    },
    {
      "cell_type": "code",
      "execution_count": 2,
      "metadata": {
        "colab": {
          "base_uri": "https://localhost:8080/"
        },
        "id": "G5gweJAgwGFb",
        "outputId": "d27c1cae-6379-425e-c8e1-270ffec30354"
      },
      "outputs": [
        {
          "output_type": "stream",
          "name": "stdout",
          "text": [
            "60\n"
          ]
        }
      ],
      "source": [
        "c = 10\n",
        "a =50\n",
        "b=a+c\n",
        "print(b)"
      ]
    },
    {
      "cell_type": "code",
      "source": [
        "ticket = 390\n",
        "wallet = 7000\n",
        "if ticket <= wallet:\n",
        "  print(\"less go\")\n",
        "else:\n",
        "  print(\"Not dis time\")"
      ],
      "metadata": {
        "colab": {
          "base_uri": "https://localhost:8080/"
        },
        "id": "tJECEzLHwwAh",
        "outputId": "924307c2-006d-467e-811f-b88811cf9996"
      },
      "execution_count": 3,
      "outputs": [
        {
          "output_type": "stream",
          "name": "stdout",
          "text": [
            "less go\n"
          ]
        }
      ]
    },
    {
      "cell_type": "code",
      "source": [
        "marks = 89\n",
        "if marks >= 90:\n",
        "  print(\"A+\")\n",
        "elif marks >= 80:\n",
        "  print(\"A\")\n",
        "elif marks >= 70:\n",
        "  print('B+')\n",
        "else:\n",
        "  print('Not good enough')\n"
      ],
      "metadata": {
        "colab": {
          "base_uri": "https://localhost:8080/"
        },
        "id": "xhLDM6YyxnnH",
        "outputId": "c0539578-7140-462c-c2ec-94ebc9960043"
      },
      "execution_count": 9,
      "outputs": [
        {
          "output_type": "stream",
          "name": "stdout",
          "text": [
            "A\n"
          ]
        }
      ]
    }
  ]
}